{
 "cells": [
  {
   "cell_type": "code",
   "execution_count": 2,
   "id": "6d1bf823",
   "metadata": {},
   "outputs": [
    {
     "name": "stdout",
     "output_type": "stream",
     "text": [
      "[[1 2 3]\n",
      " [2 1 3]\n",
      " [3 2 1]]\n",
      "[[1, 2, 3], [2, 1, 3], [3, 2, 1]]\n",
      "3\n"
     ]
    }
   ],
   "source": [
    "#Question 1\n",
    "import numpy as np\n",
    "\n",
    "A = np.array([[1, 2, 3], [2, 1, 3], [3, 2, 1]])\n",
    "x = A.tolist()\n",
    "\n",
    "print(A)\n",
    "print(x)\n",
    "print(A.shape[0])\n"
   ]
  },
  {
   "cell_type": "code",
   "execution_count": 3,
   "id": "aabcbc82",
   "metadata": {},
   "outputs": [
    {
     "name": "stdout",
     "output_type": "stream",
     "text": [
      "3\n",
      "3\n"
     ]
    }
   ],
   "source": [
    "# Question 2\n",
    "# Manual Method\n",
    "import numpy as np\n",
    "\n",
    "A = np.array([[1, 2, 3], [2, 1, 3], [3, 2, 1]])\n",
    "\n",
    "def diag_sum(arr1):\n",
    "    result = 0\n",
    "    for i in range(len(arr1)):\n",
    "        result += arr1[i][i]\n",
    "\n",
    "    print(result)\n",
    "\n",
    "diag_sum(A)\n",
    "\n",
    "# Trace Function\n",
    "print(np.trace(A))"
   ]
  },
  {
   "cell_type": "code",
   "execution_count": 4,
   "id": "33e313bc",
   "metadata": {},
   "outputs": [
    {
     "name": "stdout",
     "output_type": "stream",
     "text": [
      "[3, 5]\n"
     ]
    }
   ],
   "source": [
    "# Question 3\n",
    "import numpy as np\n",
    "\n",
    "a = np.array([[1, 2], [3, 5]])\n",
    "\n",
    "\n",
    "def Get_Values_Greater_than_Value(arr1, val):\n",
    "    Rlist = []\n",
    "    for i in range(len(arr1)):\n",
    "        for n in range(len(arr1[i])):\n",
    "            if arr1[i][n] > val:\n",
    "                Rlist.append(arr1[i][n])\n",
    "    print(Rlist)\n",
    "\n",
    "\n",
    "Get_Values_Greater_than_Value(a, 2)"
   ]
  },
  {
   "cell_type": "code",
   "execution_count": 8,
   "id": "3e9b0dc7",
   "metadata": {},
   "outputs": [
    {
     "name": "stdout",
     "output_type": "stream",
     "text": [
      "[[ 2  4]\n",
      " [ 6 10]]\n"
     ]
    }
   ],
   "source": [
    "# Question 4\n",
    "import numpy as np\n",
    "\n",
    "A = np.array([[1, 2], [3, 5]])\n",
    "B = np.array([[1, 2], [3, 5]])\n",
    "\n",
    "def arr_sum(arr1, arr2):\n",
    "    Rlist = []\n",
    "    for i in range(len(arr1)):\n",
    "        subList = []\n",
    "        for n in range(len(arr1[i])):\n",
    "            subList.append(arr1[i][n]+arr2[i][n])\n",
    "        Rlist.append(subList)\n",
    "    C = np.array(Rlist)\n",
    "    return C\n",
    "\n",
    "C = arr_sum(A, B)\n",
    "print(C)"
   ]
  },
  {
   "cell_type": "code",
   "execution_count": 10,
   "id": "503caba6",
   "metadata": {},
   "outputs": [
    {
     "name": "stdout",
     "output_type": "stream",
     "text": [
      "-2.5\n"
     ]
    }
   ],
   "source": [
    "# Question 5\n",
    "import numpy as np\n",
    "from statistics import mean\n",
    "\n",
    "A = np.array([[1, 2], [3, 5]])\n",
    "\n",
    "def mean_sub(arr1):\n",
    "    li = arr1.tolist()\n",
    "    result = 0\n",
    "    Rlist = []\n",
    "    for i in range(len(li)):\n",
    "        Rlist.append(mean(li[i]))\n",
    "    for n in range(len(Rlist)):\n",
    "        if n == 0:\n",
    "            result = Rlist[n]\n",
    "        else:\n",
    "            result -= Rlist[n]\n",
    "\n",
    "    print(result)\n",
    "\n",
    "mean_sub(A)"
   ]
  },
  {
   "cell_type": "code",
   "execution_count": null,
   "id": "8c80c0d3",
   "metadata": {},
   "outputs": [],
   "source": []
  }
 ],
 "metadata": {
  "kernelspec": {
   "display_name": "Python 3 (ipykernel)",
   "language": "python",
   "name": "python3"
  },
  "language_info": {
   "codemirror_mode": {
    "name": "ipython",
    "version": 3
   },
   "file_extension": ".py",
   "mimetype": "text/x-python",
   "name": "python",
   "nbconvert_exporter": "python",
   "pygments_lexer": "ipython3",
   "version": "3.9.13"
  }
 },
 "nbformat": 4,
 "nbformat_minor": 5
}
