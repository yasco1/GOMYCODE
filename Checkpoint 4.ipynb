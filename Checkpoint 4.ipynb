{
 "cells": [
  {
   "cell_type": "code",
   "execution_count": 11,
   "id": "1a348387",
   "metadata": {},
   "outputs": [
    {
     "name": "stdout",
     "output_type": "stream",
     "text": [
      "Please Enter The First Number : 10\n",
      "Please Enter The Second Number : 20\n",
      "Please Enter The Third Number : 1\n",
      "The Max Number in (10,20,1) is 20\n"
     ]
    }
   ],
   "source": [
    "#Question 1\n",
    "def max_(a,b,c):\n",
    "    maxno = max(a,b,c)  \n",
    "    print(f\"The Max Number in ({a},{b},{c}) is {maxno}\")    \n",
    "\n",
    "def app():\n",
    "    a = input(\"Please Enter The First Number : \")\n",
    "    if not a.isdigit():\n",
    "        print(\"Only Integer Numbers are allowed !\")\n",
    "        return\n",
    "\n",
    "    b = input(\"Please Enter The Second Number : \")\n",
    "    if not b.isdigit():\n",
    "        print(\"Only Integer Numbers are allowed !\")\n",
    "        return\n",
    "    c = input(\"Please Enter The Third Number : \")\n",
    "    if not c.isdigit():\n",
    "        print(\"Only Integer Numbers are allowed !\")\n",
    "        return\n",
    "    max_(int(a),int(b),int(c))\n",
    "\n",
    "app()"
   ]
  },
  {
   "cell_type": "code",
   "execution_count": 10,
   "id": "53a9614b",
   "metadata": {},
   "outputs": [
    {
     "name": "stdout",
     "output_type": "stream",
     "text": [
      "Please Enter The First Number : 5\n",
      "Please Enter The Second Number : 20\n",
      "The Addition of (5+20) is 25\n",
      "The Subtraction of (5-20) is -15\n"
     ]
    }
   ],
   "source": [
    "#Question 2\n",
    "def calculation(a,b):\n",
    "    sub = a-b\n",
    "    add = a+b\n",
    "    return add,sub\n",
    "\n",
    "def app():\n",
    "    a = input(\"Please Enter The First Number : \")\n",
    "    if not a.isdigit():\n",
    "        print(\"Only Integer Numbers are allowed !\")\n",
    "        return\n",
    "\n",
    "    b = input(\"Please Enter The Second Number : \")\n",
    "    if not b.isdigit():\n",
    "        print(\"Only Integer Numbers are allowed !\")\n",
    "        return\n",
    "    result=calculation(int(a),int(b))\n",
    "    print(f\"The Addition of ({a}+{b}) is {result[0]}\\nThe Subtraction of ({a}-{b}) is {result[1]}\") \n",
    "\n",
    "app()"
   ]
  },
  {
   "cell_type": "code",
   "execution_count": 19,
   "id": "09776ec8",
   "metadata": {},
   "outputs": [
    {
     "name": "stdout",
     "output_type": "stream",
     "text": [
      "Please Select The Operation (1 : For Addition , 2 : For Multiplication , 3 : For Addition of Even Positioned Numbers And Multiplication of the Odd Positioned Ones,4 : Exit) : 1\n",
      "Please Enter An Integer Number or (C) to Calculate : 5\n",
      "Please Enter An Integer Number or (C) to Calculate : 5\n",
      "Please Enter An Integer Number or (C) to Calculate : 5\n",
      "Please Enter An Integer Number or (C) to Calculate : 5\n",
      "Please Enter An Integer Number or (C) to Calculate : c\n",
      "The Addition of the Members in the List:[5, 5, 5, 5] is 20\n",
      "Please Select The Operation (1 : For Addition , 2 : For Multiplication , 3 : For Addition of Even Positioned Numbers And Multiplication of the Odd Positioned Ones,4 : Exit) : 3\n",
      "Please Enter An Integer Number or (C) to Calculate : 1\n",
      "Please Enter An Integer Number or (C) to Calculate : 2\n",
      "Please Enter An Integer Number or (C) to Calculate : 1\n",
      "Please Enter An Integer Number or (C) to Calculate : 2\n",
      "Please Enter An Integer Number or (C) to Calculate : 1\n",
      "Please Enter An Integer Number or (C) to Calculate : 2\n",
      "Please Enter An Integer Number or (C) to Calculate : C\n",
      "The Sum of Even Positioned Numbers is 6\n",
      "The Mulitplication of Odd Positioned Numbers is 1\n"
     ]
    },
    {
     "ename": "KeyboardInterrupt",
     "evalue": "Interrupted by user",
     "output_type": "error",
     "traceback": [
      "\u001b[1;31m---------------------------------------------------------------------------\u001b[0m",
      "\u001b[1;31mKeyboardInterrupt\u001b[0m                         Traceback (most recent call last)",
      "\u001b[1;32m~\\AppData\\Local\\Temp\\ipykernel_6212\\1918896279.py\u001b[0m in \u001b[0;36m<module>\u001b[1;34m\u001b[0m\n\u001b[0;32m     67\u001b[0m             \u001b[0mprint\u001b[0m\u001b[1;33m(\u001b[0m\u001b[1;34m\"Please Enter a Value from the menu1!\"\u001b[0m\u001b[1;33m)\u001b[0m\u001b[1;33m\u001b[0m\u001b[1;33m\u001b[0m\u001b[0m\n\u001b[0;32m     68\u001b[0m \u001b[1;33m\u001b[0m\u001b[0m\n\u001b[1;32m---> 69\u001b[1;33m \u001b[0mapp_loop\u001b[0m\u001b[1;33m(\u001b[0m\u001b[1;33m)\u001b[0m\u001b[1;33m\u001b[0m\u001b[1;33m\u001b[0m\u001b[0m\n\u001b[0m",
      "\u001b[1;32m~\\AppData\\Local\\Temp\\ipykernel_6212\\1918896279.py\u001b[0m in \u001b[0;36mapp_loop\u001b[1;34m()\u001b[0m\n\u001b[0;32m     55\u001b[0m \u001b[1;33m\u001b[0m\u001b[0m\n\u001b[0;32m     56\u001b[0m     \u001b[1;32mwhile\u001b[0m \u001b[1;32mTrue\u001b[0m\u001b[1;33m:\u001b[0m\u001b[1;33m\u001b[0m\u001b[1;33m\u001b[0m\u001b[0m\n\u001b[1;32m---> 57\u001b[1;33m         \u001b[0moperation\u001b[0m \u001b[1;33m=\u001b[0m \u001b[0minput\u001b[0m\u001b[1;33m(\u001b[0m\u001b[1;34m\"Please Select The Operation (1 : For Addition , 2 : For Multiplication , 3 : For Addition of Even Positioned Numbers And Multiplication of the Odd Positioned Ones,4 : Exit) : \"\u001b[0m\u001b[1;33m)\u001b[0m\u001b[1;33m\u001b[0m\u001b[1;33m\u001b[0m\u001b[0m\n\u001b[0m\u001b[0;32m     58\u001b[0m         \u001b[1;32mif\u001b[0m \u001b[0moperation\u001b[0m\u001b[1;33m.\u001b[0m\u001b[0misdigit\u001b[0m\u001b[1;33m(\u001b[0m\u001b[1;33m)\u001b[0m\u001b[1;33m:\u001b[0m\u001b[1;33m\u001b[0m\u001b[1;33m\u001b[0m\u001b[0m\n\u001b[0;32m     59\u001b[0m             \u001b[1;32mif\u001b[0m \u001b[0mint\u001b[0m\u001b[1;33m(\u001b[0m\u001b[0moperation\u001b[0m\u001b[1;33m)\u001b[0m \u001b[1;32min\u001b[0m \u001b[1;33m[\u001b[0m\u001b[1;36m1\u001b[0m\u001b[1;33m,\u001b[0m\u001b[1;36m2\u001b[0m\u001b[1;33m,\u001b[0m\u001b[1;36m3\u001b[0m\u001b[1;33m]\u001b[0m\u001b[1;33m:\u001b[0m\u001b[1;33m\u001b[0m\u001b[1;33m\u001b[0m\u001b[0m\n",
      "\u001b[1;32mC:\\ProgramData\\Anaconda3\\lib\\site-packages\\ipykernel\\kernelbase.py\u001b[0m in \u001b[0;36mraw_input\u001b[1;34m(self, prompt)\u001b[0m\n\u001b[0;32m   1175\u001b[0m                 \u001b[1;34m\"raw_input was called, but this frontend does not support input requests.\"\u001b[0m\u001b[1;33m\u001b[0m\u001b[1;33m\u001b[0m\u001b[0m\n\u001b[0;32m   1176\u001b[0m             )\n\u001b[1;32m-> 1177\u001b[1;33m         return self._input_request(\n\u001b[0m\u001b[0;32m   1178\u001b[0m             \u001b[0mstr\u001b[0m\u001b[1;33m(\u001b[0m\u001b[0mprompt\u001b[0m\u001b[1;33m)\u001b[0m\u001b[1;33m,\u001b[0m\u001b[1;33m\u001b[0m\u001b[1;33m\u001b[0m\u001b[0m\n\u001b[0;32m   1179\u001b[0m             \u001b[0mself\u001b[0m\u001b[1;33m.\u001b[0m\u001b[0m_parent_ident\u001b[0m\u001b[1;33m[\u001b[0m\u001b[1;34m\"shell\"\u001b[0m\u001b[1;33m]\u001b[0m\u001b[1;33m,\u001b[0m\u001b[1;33m\u001b[0m\u001b[1;33m\u001b[0m\u001b[0m\n",
      "\u001b[1;32mC:\\ProgramData\\Anaconda3\\lib\\site-packages\\ipykernel\\kernelbase.py\u001b[0m in \u001b[0;36m_input_request\u001b[1;34m(self, prompt, ident, parent, password)\u001b[0m\n\u001b[0;32m   1217\u001b[0m             \u001b[1;32mexcept\u001b[0m \u001b[0mKeyboardInterrupt\u001b[0m\u001b[1;33m:\u001b[0m\u001b[1;33m\u001b[0m\u001b[1;33m\u001b[0m\u001b[0m\n\u001b[0;32m   1218\u001b[0m                 \u001b[1;31m# re-raise KeyboardInterrupt, to truncate traceback\u001b[0m\u001b[1;33m\u001b[0m\u001b[1;33m\u001b[0m\u001b[0m\n\u001b[1;32m-> 1219\u001b[1;33m                 \u001b[1;32mraise\u001b[0m \u001b[0mKeyboardInterrupt\u001b[0m\u001b[1;33m(\u001b[0m\u001b[1;34m\"Interrupted by user\"\u001b[0m\u001b[1;33m)\u001b[0m \u001b[1;32mfrom\u001b[0m \u001b[1;32mNone\u001b[0m\u001b[1;33m\u001b[0m\u001b[1;33m\u001b[0m\u001b[0m\n\u001b[0m\u001b[0;32m   1220\u001b[0m             \u001b[1;32mexcept\u001b[0m \u001b[0mException\u001b[0m\u001b[1;33m:\u001b[0m\u001b[1;33m\u001b[0m\u001b[1;33m\u001b[0m\u001b[0m\n\u001b[0;32m   1221\u001b[0m                 \u001b[0mself\u001b[0m\u001b[1;33m.\u001b[0m\u001b[0mlog\u001b[0m\u001b[1;33m.\u001b[0m\u001b[0mwarning\u001b[0m\u001b[1;33m(\u001b[0m\u001b[1;34m\"Invalid Message:\"\u001b[0m\u001b[1;33m,\u001b[0m \u001b[0mexc_info\u001b[0m\u001b[1;33m=\u001b[0m\u001b[1;32mTrue\u001b[0m\u001b[1;33m)\u001b[0m\u001b[1;33m\u001b[0m\u001b[1;33m\u001b[0m\u001b[0m\n",
      "\u001b[1;31mKeyboardInterrupt\u001b[0m: Interrupted by user"
     ]
    }
   ],
   "source": [
    "#Question 3\n",
    "def Integer_Sum(ListOfIntegers):\n",
    "    result = 0\n",
    "    for i in ListOfIntegers:\n",
    "        result += i\n",
    "    return result\n",
    "\n",
    "def Integer_Multiplication(ListOfIntegers):\n",
    "    result = 1\n",
    "    for i in ListOfIntegers:\n",
    "        result *= i\n",
    "    return result\n",
    "\n",
    "def cus_fn(ListOfIntegers):\n",
    "    ##addtion of Even\n",
    "    List_even = []\n",
    "    List_odd = []\n",
    "    sum_result = 0\n",
    "    mul_result = 1\n",
    "    for i in range(len(ListOfIntegers)):\n",
    "        if (i+1)%2 == 0:\n",
    "            List_even.append(ListOfIntegers[i])\n",
    "            sum_result += ListOfIntegers[i]\n",
    "        else:\n",
    "            List_odd.append(ListOfIntegers[i])\n",
    "            mul_result *= ListOfIntegers[i]\n",
    "            \n",
    "    return sum_result,mul_result\n",
    "    \n",
    "    \n",
    "def get_data(operation):\n",
    "    \n",
    "    ListOfIntegers=[]\n",
    "    \n",
    "    while True:\n",
    "            Number = input(\"Please Enter An Integer Number or (C) to Calculate : \")\n",
    "            \n",
    "            if Number.isdigit():\n",
    "                ListOfIntegers.append(int(Number))\n",
    "            elif Number.upper() == 'C':\n",
    "                break\n",
    "            else:\n",
    "                print(\"Only Integer Numbers Are Allowed !\")\n",
    "                \n",
    "    if (operation) == 1:   \n",
    "        result = Integer_Sum(ListOfIntegers)\n",
    "        print(f\"The Addition of the Members in the List:{ListOfIntegers} is {result}\")\n",
    "    elif int(operation) == 2:\n",
    "        result = Integer_Multiplication(ListOfIntegers)\n",
    "        print(f\"The Multiplication of the Members in the List:{ListOfIntegers} is {result}\")\n",
    "    else:\n",
    "        result = cus_fn(ListOfIntegers)\n",
    "        print(f\"The Sum of Even Positioned Numbers is {result[0]}\\nThe Mulitplication of Odd Positioned Numbers is {result[1]}\") \n",
    "        \n",
    "def app_loop():\n",
    "    \n",
    "    while True:\n",
    "        operation = input(\"Please Select The Operation (1: For Addition, 2: For Multiplication, 3: For Addition of Even Positioned Numbers And Multiplication of the Odd Positioned Ones, 4: Exit) : \")\n",
    "        if operation.isdigit():\n",
    "            if int(operation) in [1,2,3]:\n",
    "                get_data(int(operation))\n",
    "            elif int(operation) == 4:\n",
    "                print(\"Exiting, Thank u :D !\")\n",
    "                break\n",
    "            else:\n",
    "                print(\"Please Enter a Value from the menu!\")\n",
    "        else:\n",
    "            print(\"Please Enter a Value from the menu!\")\n",
    "        \n",
    "app_loop()"
   ]
  },
  {
   "cell_type": "code",
   "execution_count": 27,
   "id": "e7d9b66b",
   "metadata": {},
   "outputs": [
    {
     "name": "stdout",
     "output_type": "stream",
     "text": [
      "G\n",
      "O\n",
      "M\n",
      "Y\n",
      "C\n",
      "O\n",
      "D\n",
      "E\n"
     ]
    }
   ],
   "source": [
    "#Question 4\n",
    "def DictVal_UpperLetter(dict):\n",
    "    li = []\n",
    "    for i in dict.values():\n",
    "        if isinstance(i,str):\n",
    "            li.append(i[0].upper())\n",
    "    return li\n",
    "\n",
    "r = DictVal_UpperLetter({1:\"gomycode.com\",2:\"order\",3:\"mazen\",4:\"yassin\",5:\"code\",6:\"operation\",7:\"dictionary\",\n",
    "                         8:\"execute\"})\n",
    "for i in r:\n",
    "    print(i)"
   ]
  },
  {
   "cell_type": "code",
   "execution_count": 34,
   "id": "6b0eb7ff",
   "metadata": {},
   "outputs": [
    {
     "name": "stdout",
     "output_type": "stream",
     "text": [
      "gomycode.com\n"
     ]
    }
   ],
   "source": [
    "#Question 5\n",
    "def Dict_LargestWordKey(dict):\n",
    "    li = []\n",
    "    for i in dict.values():\n",
    "        if isinstance(i,str):\n",
    "            li.append(len(i))\n",
    "    \n",
    "    LargestWordKey = list(dict.keys())[li.index(max(li))]\n",
    "    print(dict[LargestWordKey])\n",
    "#    return dict[LargestWordKey]\n",
    "\n",
    "Dict_LargestWordKey({1:\"gomycode.com\",2:\"order\",3:\"mazen\",4:\"yassin\",5:\"code\",6:\"operation\",7:\"dictionary\",\n",
    "                         8:\"execute\"})"
   ]
  },
  {
   "cell_type": "code",
   "execution_count": 36,
   "id": "d8693422",
   "metadata": {},
   "outputs": [
    {
     "name": "stdout",
     "output_type": "stream",
     "text": [
      "Please Enter a hyphen-separated sequence of words to sort (e.g.: w1-w2-w3-w4) or 'E' to exit : green-red-yellow-black-white\n",
      "Your Sorted String is 'black-green-red-white-yellow'\n",
      "\n"
     ]
    },
    {
     "ename": "KeyboardInterrupt",
     "evalue": "Interrupted by user",
     "output_type": "error",
     "traceback": [
      "\u001b[1;31m---------------------------------------------------------------------------\u001b[0m",
      "\u001b[1;31mKeyboardInterrupt\u001b[0m                         Traceback (most recent call last)",
      "\u001b[1;32m~\\AppData\\Local\\Temp\\ipykernel_6212\\2874638251.py\u001b[0m in \u001b[0;36m<module>\u001b[1;34m\u001b[0m\n\u001b[0;32m     20\u001b[0m             \u001b[0mstr_sort\u001b[0m\u001b[1;33m(\u001b[0m\u001b[0mstr\u001b[0m\u001b[1;33m)\u001b[0m\u001b[1;33m\u001b[0m\u001b[1;33m\u001b[0m\u001b[0m\n\u001b[0;32m     21\u001b[0m \u001b[1;33m\u001b[0m\u001b[0m\n\u001b[1;32m---> 22\u001b[1;33m \u001b[0mapp_loop\u001b[0m\u001b[1;33m(\u001b[0m\u001b[1;33m)\u001b[0m\u001b[1;33m\u001b[0m\u001b[1;33m\u001b[0m\u001b[0m\n\u001b[0m",
      "\u001b[1;32m~\\AppData\\Local\\Temp\\ipykernel_6212\\2874638251.py\u001b[0m in \u001b[0;36mapp_loop\u001b[1;34m()\u001b[0m\n\u001b[0;32m     14\u001b[0m \u001b[1;33m\u001b[0m\u001b[0m\n\u001b[0;32m     15\u001b[0m     \u001b[1;32mwhile\u001b[0m \u001b[1;32mTrue\u001b[0m\u001b[1;33m:\u001b[0m\u001b[1;33m\u001b[0m\u001b[1;33m\u001b[0m\u001b[0m\n\u001b[1;32m---> 16\u001b[1;33m         \u001b[0mstr\u001b[0m \u001b[1;33m=\u001b[0m \u001b[0minput\u001b[0m\u001b[1;33m(\u001b[0m\u001b[1;34m\"Please Enter a hyphen-separated sequence of words to sort (e.g.: w1-w2-w3-w4) or 'E' to exit : \"\u001b[0m\u001b[1;33m)\u001b[0m\u001b[1;33m\u001b[0m\u001b[1;33m\u001b[0m\u001b[0m\n\u001b[0m\u001b[0;32m     17\u001b[0m         \u001b[1;32mif\u001b[0m \u001b[0mstr\u001b[0m \u001b[1;33m==\u001b[0m \u001b[1;34m'E'\u001b[0m\u001b[1;33m:\u001b[0m\u001b[1;33m\u001b[0m\u001b[1;33m\u001b[0m\u001b[0m\n\u001b[0;32m     18\u001b[0m             \u001b[1;32mbreak\u001b[0m\u001b[1;33m\u001b[0m\u001b[1;33m\u001b[0m\u001b[0m\n",
      "\u001b[1;32mC:\\ProgramData\\Anaconda3\\lib\\site-packages\\ipykernel\\kernelbase.py\u001b[0m in \u001b[0;36mraw_input\u001b[1;34m(self, prompt)\u001b[0m\n\u001b[0;32m   1175\u001b[0m                 \u001b[1;34m\"raw_input was called, but this frontend does not support input requests.\"\u001b[0m\u001b[1;33m\u001b[0m\u001b[1;33m\u001b[0m\u001b[0m\n\u001b[0;32m   1176\u001b[0m             )\n\u001b[1;32m-> 1177\u001b[1;33m         return self._input_request(\n\u001b[0m\u001b[0;32m   1178\u001b[0m             \u001b[0mstr\u001b[0m\u001b[1;33m(\u001b[0m\u001b[0mprompt\u001b[0m\u001b[1;33m)\u001b[0m\u001b[1;33m,\u001b[0m\u001b[1;33m\u001b[0m\u001b[1;33m\u001b[0m\u001b[0m\n\u001b[0;32m   1179\u001b[0m             \u001b[0mself\u001b[0m\u001b[1;33m.\u001b[0m\u001b[0m_parent_ident\u001b[0m\u001b[1;33m[\u001b[0m\u001b[1;34m\"shell\"\u001b[0m\u001b[1;33m]\u001b[0m\u001b[1;33m,\u001b[0m\u001b[1;33m\u001b[0m\u001b[1;33m\u001b[0m\u001b[0m\n",
      "\u001b[1;32mC:\\ProgramData\\Anaconda3\\lib\\site-packages\\ipykernel\\kernelbase.py\u001b[0m in \u001b[0;36m_input_request\u001b[1;34m(self, prompt, ident, parent, password)\u001b[0m\n\u001b[0;32m   1217\u001b[0m             \u001b[1;32mexcept\u001b[0m \u001b[0mKeyboardInterrupt\u001b[0m\u001b[1;33m:\u001b[0m\u001b[1;33m\u001b[0m\u001b[1;33m\u001b[0m\u001b[0m\n\u001b[0;32m   1218\u001b[0m                 \u001b[1;31m# re-raise KeyboardInterrupt, to truncate traceback\u001b[0m\u001b[1;33m\u001b[0m\u001b[1;33m\u001b[0m\u001b[0m\n\u001b[1;32m-> 1219\u001b[1;33m                 \u001b[1;32mraise\u001b[0m \u001b[0mKeyboardInterrupt\u001b[0m\u001b[1;33m(\u001b[0m\u001b[1;34m\"Interrupted by user\"\u001b[0m\u001b[1;33m)\u001b[0m \u001b[1;32mfrom\u001b[0m \u001b[1;32mNone\u001b[0m\u001b[1;33m\u001b[0m\u001b[1;33m\u001b[0m\u001b[0m\n\u001b[0m\u001b[0;32m   1220\u001b[0m             \u001b[1;32mexcept\u001b[0m \u001b[0mException\u001b[0m\u001b[1;33m:\u001b[0m\u001b[1;33m\u001b[0m\u001b[1;33m\u001b[0m\u001b[0m\n\u001b[0;32m   1221\u001b[0m                 \u001b[0mself\u001b[0m\u001b[1;33m.\u001b[0m\u001b[0mlog\u001b[0m\u001b[1;33m.\u001b[0m\u001b[0mwarning\u001b[0m\u001b[1;33m(\u001b[0m\u001b[1;34m\"Invalid Message:\"\u001b[0m\u001b[1;33m,\u001b[0m \u001b[0mexc_info\u001b[0m\u001b[1;33m=\u001b[0m\u001b[1;32mTrue\u001b[0m\u001b[1;33m)\u001b[0m\u001b[1;33m\u001b[0m\u001b[1;33m\u001b[0m\u001b[0m\n",
      "\u001b[1;31mKeyboardInterrupt\u001b[0m: Interrupted by user"
     ]
    }
   ],
   "source": [
    "#Question 6\n",
    "def str_sort(str):\n",
    "    li = str.split(\"-\")\n",
    "    sli = sorted(li)\n",
    "    output = \"\"\n",
    "    for i in range(len(sli)):\n",
    "        if i == len(sli) - 1:\n",
    "            output += sli[i]\n",
    "        else:\n",
    "            output += sli[i] + '-'\n",
    "            \n",
    "    print(f\"Your Sorted String is '{output}'\\n\")\n",
    "    \n",
    "def app_loop():\n",
    "    \n",
    "    while True:\n",
    "        str = input(\"Please Enter a hyphen-separated sequence of words to sort (e.g.: w1-w2-w3-w4) or 'E' to exit : \")\n",
    "        if str == 'E':\n",
    "            break\n",
    "        else:\n",
    "            str_sort(str)\n",
    "        \n",
    "app_loop()"
   ]
  },
  {
   "cell_type": "code",
   "execution_count": 37,
   "id": "66d37c8f",
   "metadata": {},
   "outputs": [
    {
     "ename": "KeyboardInterrupt",
     "evalue": "Interrupted by user",
     "output_type": "error",
     "traceback": [
      "\u001b[1;31m---------------------------------------------------------------------------\u001b[0m",
      "\u001b[1;31mKeyboardInterrupt\u001b[0m                         Traceback (most recent call last)",
      "\u001b[1;32m~\\AppData\\Local\\Temp\\ipykernel_6212\\4013031432.py\u001b[0m in \u001b[0;36m<module>\u001b[1;34m\u001b[0m\n\u001b[0;32m     30\u001b[0m \u001b[1;33m\u001b[0m\u001b[0m\n\u001b[0;32m     31\u001b[0m \u001b[1;33m\u001b[0m\u001b[0m\n\u001b[1;32m---> 32\u001b[1;33m \u001b[0mapp_loop\u001b[0m\u001b[1;33m(\u001b[0m\u001b[1;33m)\u001b[0m\u001b[1;33m\u001b[0m\u001b[1;33m\u001b[0m\u001b[0m\n\u001b[0m",
      "\u001b[1;32m~\\AppData\\Local\\Temp\\ipykernel_6212\\4013031432.py\u001b[0m in \u001b[0;36mapp_loop\u001b[1;34m()\u001b[0m\n\u001b[0;32m     22\u001b[0m \u001b[1;33m\u001b[0m\u001b[0m\n\u001b[0;32m     23\u001b[0m     \u001b[1;32mwhile\u001b[0m \u001b[1;32mTrue\u001b[0m\u001b[1;33m:\u001b[0m\u001b[1;33m\u001b[0m\u001b[1;33m\u001b[0m\u001b[0m\n\u001b[1;32m---> 24\u001b[1;33m         dValues = input(\n\u001b[0m\u001b[0;32m     25\u001b[0m             \"Please Enter the Value of D in a comma-separated sequence or 'E' to exit : \")\n\u001b[0;32m     26\u001b[0m         \u001b[1;32mif\u001b[0m \u001b[0mstr\u001b[0m \u001b[1;33m==\u001b[0m \u001b[1;34m'E'\u001b[0m\u001b[1;33m:\u001b[0m\u001b[1;33m\u001b[0m\u001b[1;33m\u001b[0m\u001b[0m\n",
      "\u001b[1;32mC:\\ProgramData\\Anaconda3\\lib\\site-packages\\ipykernel\\kernelbase.py\u001b[0m in \u001b[0;36mraw_input\u001b[1;34m(self, prompt)\u001b[0m\n\u001b[0;32m   1175\u001b[0m                 \u001b[1;34m\"raw_input was called, but this frontend does not support input requests.\"\u001b[0m\u001b[1;33m\u001b[0m\u001b[1;33m\u001b[0m\u001b[0m\n\u001b[0;32m   1176\u001b[0m             )\n\u001b[1;32m-> 1177\u001b[1;33m         return self._input_request(\n\u001b[0m\u001b[0;32m   1178\u001b[0m             \u001b[0mstr\u001b[0m\u001b[1;33m(\u001b[0m\u001b[0mprompt\u001b[0m\u001b[1;33m)\u001b[0m\u001b[1;33m,\u001b[0m\u001b[1;33m\u001b[0m\u001b[1;33m\u001b[0m\u001b[0m\n\u001b[0;32m   1179\u001b[0m             \u001b[0mself\u001b[0m\u001b[1;33m.\u001b[0m\u001b[0m_parent_ident\u001b[0m\u001b[1;33m[\u001b[0m\u001b[1;34m\"shell\"\u001b[0m\u001b[1;33m]\u001b[0m\u001b[1;33m,\u001b[0m\u001b[1;33m\u001b[0m\u001b[1;33m\u001b[0m\u001b[0m\n",
      "\u001b[1;32mC:\\ProgramData\\Anaconda3\\lib\\site-packages\\ipykernel\\kernelbase.py\u001b[0m in \u001b[0;36m_input_request\u001b[1;34m(self, prompt, ident, parent, password)\u001b[0m\n\u001b[0;32m   1217\u001b[0m             \u001b[1;32mexcept\u001b[0m \u001b[0mKeyboardInterrupt\u001b[0m\u001b[1;33m:\u001b[0m\u001b[1;33m\u001b[0m\u001b[1;33m\u001b[0m\u001b[0m\n\u001b[0;32m   1218\u001b[0m                 \u001b[1;31m# re-raise KeyboardInterrupt, to truncate traceback\u001b[0m\u001b[1;33m\u001b[0m\u001b[1;33m\u001b[0m\u001b[0m\n\u001b[1;32m-> 1219\u001b[1;33m                 \u001b[1;32mraise\u001b[0m \u001b[0mKeyboardInterrupt\u001b[0m\u001b[1;33m(\u001b[0m\u001b[1;34m\"Interrupted by user\"\u001b[0m\u001b[1;33m)\u001b[0m \u001b[1;32mfrom\u001b[0m \u001b[1;32mNone\u001b[0m\u001b[1;33m\u001b[0m\u001b[1;33m\u001b[0m\u001b[0m\n\u001b[0m\u001b[0;32m   1220\u001b[0m             \u001b[1;32mexcept\u001b[0m \u001b[0mException\u001b[0m\u001b[1;33m:\u001b[0m\u001b[1;33m\u001b[0m\u001b[1;33m\u001b[0m\u001b[0m\n\u001b[0;32m   1221\u001b[0m                 \u001b[0mself\u001b[0m\u001b[1;33m.\u001b[0m\u001b[0mlog\u001b[0m\u001b[1;33m.\u001b[0m\u001b[0mwarning\u001b[0m\u001b[1;33m(\u001b[0m\u001b[1;34m\"Invalid Message:\"\u001b[0m\u001b[1;33m,\u001b[0m \u001b[0mexc_info\u001b[0m\u001b[1;33m=\u001b[0m\u001b[1;32mTrue\u001b[0m\u001b[1;33m)\u001b[0m\u001b[1;33m\u001b[0m\u001b[1;33m\u001b[0m\u001b[0m\n",
      "\u001b[1;31mKeyboardInterrupt\u001b[0m: Interrupted by user"
     ]
    }
   ],
   "source": [
    "#Question 7 (Bonus)\n",
    "import math\n",
    "\n",
    "\n",
    "def fn(dValues):\n",
    "    C = 50\n",
    "    H = 30\n",
    "    dlist = dValues.split(\",\")\n",
    "    Rlist = []\n",
    "    for D in dlist:\n",
    "        Rlist.append(math.sqrt(((2*C*int(D))/H)))\n",
    "\n",
    "    result = \"\"\n",
    "    for R in range(len(Rlist)):\n",
    "        if R == len(Rlist) - 1:\n",
    "            result += str(round(Rlist[R]))\n",
    "        else:\n",
    "            result += str(round(Rlist[R])) + \",\"\n",
    "    print(f\"The Result is ({result})\\n\")\n",
    "\n",
    "\n",
    "def app_loop():\n",
    "\n",
    "    while True:\n",
    "        dValues = input(\n",
    "            \"Please Enter the Value of D in a comma-separated sequence or 'E' to exit : \")\n",
    "        if str == 'E':\n",
    "            break\n",
    "        else:\n",
    "            fn(dValues)\n",
    "\n",
    "\n",
    "app_loop()"
   ]
  },
  {
   "cell_type": "code",
   "execution_count": null,
   "id": "9ffc05ff",
   "metadata": {},
   "outputs": [],
   "source": []
  }
 ],
 "metadata": {
  "kernelspec": {
   "display_name": "Python 3 (ipykernel)",
   "language": "python",
   "name": "python3"
  },
  "language_info": {
   "codemirror_mode": {
    "name": "ipython",
    "version": 3
   },
   "file_extension": ".py",
   "mimetype": "text/x-python",
   "name": "python",
   "nbconvert_exporter": "python",
   "pygments_lexer": "ipython3",
   "version": "3.9.13"
  }
 },
 "nbformat": 4,
 "nbformat_minor": 5
}
