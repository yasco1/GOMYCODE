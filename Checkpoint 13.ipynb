{
 "cells": [
  {
   "cell_type": "code",
   "execution_count": 3,
   "id": "0965e0e4",
   "metadata": {},
   "outputs": [
    {
     "name": "stdout",
     "output_type": "stream",
     "text": [
      "Please Enter The Total Duration in SECONDS : 5\n",
      "Fire in the hole!\n"
     ]
    }
   ],
   "source": [
    "import time\n",
    "\n",
    "\n",
    "def countdown(total_duration_in_seconds):\n",
    "    while total_duration_in_seconds:\n",
    "        hours = total_duration_in_seconds // (60*60)\n",
    "        minutes = (total_duration_in_seconds % (60*60))//60\n",
    "        seconds = total_duration_in_seconds % 60\n",
    "        print(f\"{hours}:{minutes}:{seconds}\", end=\"\\r\")\n",
    "        total_duration_in_seconds -= 1\n",
    "        time.sleep(1)\n",
    "    print(\"Fire in the hole!\")\n",
    "\n",
    "\n",
    "total_duartion_in_seconds = int(\n",
    "    input(\"Please Enter The Total Duration in SECONDS : \"))\n",
    "countdown(total_duartion_in_seconds)\n"
   ]
  },
  {
   "cell_type": "code",
   "execution_count": null,
   "id": "d27e3e66",
   "metadata": {},
   "outputs": [],
   "source": []
  }
 ],
 "metadata": {
  "kernelspec": {
   "display_name": "Python 3 (ipykernel)",
   "language": "python",
   "name": "python3"
  },
  "language_info": {
   "codemirror_mode": {
    "name": "ipython",
    "version": 3
   },
   "file_extension": ".py",
   "mimetype": "text/x-python",
   "name": "python",
   "nbconvert_exporter": "python",
   "pygments_lexer": "ipython3",
   "version": "3.9.13"
  }
 },
 "nbformat": 4,
 "nbformat_minor": 5
}
