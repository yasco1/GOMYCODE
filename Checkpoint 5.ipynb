{
 "cells": [
  {
   "cell_type": "code",
   "execution_count": 1,
   "id": "339eafec",
   "metadata": {},
   "outputs": [
    {
     "name": "stdout",
     "output_type": "stream",
     "text": [
      "(1, 2, 3)\n"
     ]
    }
   ],
   "source": [
    "# Question 1\n",
    "class Point3D():\n",
    "    def __init__(self, x, y, z):\n",
    "        self.x = x\n",
    "        self.y = y\n",
    "        self.z = z\n",
    "\n",
    "    def Coordinates(self):\n",
    "        return self.x, self.y, self.z\n",
    "\n",
    "\n",
    "my_point = Point3D(1, 2, 3)\n",
    "print(my_point.Coordinates())"
   ]
  },
  {
   "cell_type": "code",
   "execution_count": 2,
   "id": "7c90d421",
   "metadata": {},
   "outputs": [
    {
     "name": "stdout",
     "output_type": "stream",
     "text": [
      "12\n",
      "14\n"
     ]
    }
   ],
   "source": [
    "# Question 2\n",
    "class Rectangle():\n",
    "    def __init__(self, length, width):\n",
    "        self.length = length\n",
    "        self.width = width\n",
    "\n",
    "    def area(self):\n",
    "        return self.length*self.width\n",
    "\n",
    "    def perimeter(self):\n",
    "        return 2*(self.length + self.width)\n",
    "\n",
    "\n",
    "my_rectangle = Rectangle(4, 3)\n",
    "print(my_rectangle.area())\n",
    "print(my_rectangle.perimeter())"
   ]
  },
  {
   "cell_type": "code",
   "execution_count": 4,
   "id": "7bd5e227",
   "metadata": {},
   "outputs": [
    {
     "name": "stdout",
     "output_type": "stream",
     "text": [
      "78.53981633974483\n",
      "31.41592653589793\n",
      "True\n",
      "False\n"
     ]
    }
   ],
   "source": [
    "# Question 3\n",
    "import math\n",
    "\n",
    "class Circle():\n",
    "    def __init__(self, O, r) -> None:\n",
    "        self.O = O\n",
    "        self.r = r\n",
    "\n",
    "    def circumference(self):\n",
    "        return 2 * math.pi * self.r\n",
    "\n",
    "    def area(self):\n",
    "        return math.pi * (self.r**2)\n",
    "\n",
    "    def isInside(self, A):\n",
    "        dx = A[0] - self.O[0]\n",
    "        dy = A[1] - self.O[1]\n",
    "        L = math.sqrt((dx**2)+(dy**2))\n",
    "\n",
    "        if L <= self.r:\n",
    "            return True\n",
    "        else:\n",
    "            return False\n",
    "\n",
    "c = Circle((0, 0), 5)\n",
    "print(c.area())\n",
    "print(c.circumference())\n",
    "print(c.isInside((5, 0)))\n",
    "print(c.isInside((5, 3)))"
   ]
  },
  {
   "cell_type": "code",
   "execution_count": 5,
   "id": "eb279765",
   "metadata": {},
   "outputs": [
    {
     "name": "stdout",
     "output_type": "stream",
     "text": [
      "1000\n",
      "1500\n",
      "500\n"
     ]
    }
   ],
   "source": [
    "# Question 4\n",
    "\n",
    "class Bank():\n",
    "    def __init__(self, balance) -> None:\n",
    "        self.balance = balance\n",
    "\n",
    "    def deposit(self, amount):\n",
    "        self.balance += amount\n",
    "\n",
    "    def withdraw(self, amount):\n",
    "        self.balance -= amount\n",
    "\n",
    "BA = Bank(1000)\n",
    "print(BA.balance)\n",
    "BA.deposit(500)\n",
    "print(BA.balance)\n",
    "BA.withdraw(1000)\n",
    "print(BA.balance)\n"
   ]
  },
  {
   "cell_type": "code",
   "execution_count": null,
   "id": "ce742218",
   "metadata": {},
   "outputs": [],
   "source": []
  }
 ],
 "metadata": {
  "kernelspec": {
   "display_name": "Python 3 (ipykernel)",
   "language": "python",
   "name": "python3"
  },
  "language_info": {
   "codemirror_mode": {
    "name": "ipython",
    "version": 3
   },
   "file_extension": ".py",
   "mimetype": "text/x-python",
   "name": "python",
   "nbconvert_exporter": "python",
   "pygments_lexer": "ipython3",
   "version": "3.9.13"
  }
 },
 "nbformat": 4,
 "nbformat_minor": 5
}
