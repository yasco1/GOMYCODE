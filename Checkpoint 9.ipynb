{
 "cells": [
  {
   "cell_type": "code",
   "execution_count": 23,
   "id": "69f8f899",
   "metadata": {
    "scrolled": true
   },
   "outputs": [
    {
     "name": "stdout",
     "output_type": "stream",
     "text": [
      "hello\n",
      "world\n",
      "lorem\n",
      "pixel\n",
      "asdasd\n",
      "asdasdsdsd\n",
      "\n"
     ]
    }
   ],
   "source": [
    "#Question 1\n",
    "\n",
    "f = open('untitled.txt', 'r')\n",
    "print(f.read())\n",
    "\n",
    " # further reading returns empty sting"
   ]
  },
  {
   "cell_type": "code",
   "execution_count": 58,
   "id": "edb49f8e",
   "metadata": {},
   "outputs": [
    {
     "name": "stdout",
     "output_type": "stream",
     "text": [
      "Please Insert the number of lines to read from the start : 2\n",
      "hello world\n",
      "lorem\n"
     ]
    }
   ],
   "source": [
    "#Question 2\n",
    "\n",
    "no_of_lines = input(\"Please Insert the number of lines to read from the start : \")\n",
    "f = open('untitled.txt', 'r')\n",
    "for i in f.readlines()[0:int(no_of_lines)]:\n",
    "    print(i,end='')\n"
   ]
  },
  {
   "cell_type": "code",
   "execution_count": 59,
   "id": "0fb0c27d",
   "metadata": {},
   "outputs": [
    {
     "name": "stdout",
     "output_type": "stream",
     "text": [
      "Please Insert the number of lines to read from the end : 3\n",
      "pixel\n",
      "asdasd\n",
      "asdasdsdsd\n"
     ]
    }
   ],
   "source": [
    "#Question 3\n",
    "\n",
    "no_of_lines = input(\"Please Insert the number of lines to read from the end : \")\n",
    "f = open('untitled.txt', 'r')\n",
    "for i in f.readlines()[-int(no_of_lines):]:\n",
    "    print(i,end='')"
   ]
  },
  {
   "cell_type": "code",
   "execution_count": 52,
   "id": "0d563d25",
   "metadata": {},
   "outputs": [
    {
     "name": "stdout",
     "output_type": "stream",
     "text": [
      "Please Enter the text file path : C:\\Users\\Muham\\Downloads\\untitled.txt\n",
      "6\n"
     ]
    }
   ],
   "source": [
    "#Question 4\n",
    "\n",
    "file_name = input(\"Please Enter the text file path : \")\n",
    "file = open(file_name,'r')\n",
    "word_counter = 0\n",
    "\n",
    "for line in file:\n",
    "    for i in range(len(line)):\n",
    "        if line[i] == \" \" or line[i] == \"\\n\":\n",
    "            word_counter += 1\n",
    "\n",
    "print(word_counter)\n",
    "    \n",
    "#C:\\Users\\Muham\\Downloads\\untitled.txt"
   ]
  },
  {
   "cell_type": "code",
   "execution_count": 54,
   "id": "0c9773fe",
   "metadata": {},
   "outputs": [
    {
     "name": "stdout",
     "output_type": "stream",
     "text": [
      "Please Insert the number of lines to read from the end : 2\n",
      "['asdasd\\n', 'asdasdsdsd\\n']"
     ]
    }
   ],
   "source": [
    "#Question 3\n",
    "\n",
    "no_of_lines = input(\"Please Insert the number of lines to read from the end : \")\n",
    "f = open('untitled.txt', 'r')\n",
    "print(f.readlines()[-int(no_of_lines):])\n"
   ]
  },
  {
   "cell_type": "code",
   "execution_count": null,
   "id": "7aa7573d",
   "metadata": {},
   "outputs": [],
   "source": []
  }
 ],
 "metadata": {
  "kernelspec": {
   "display_name": "Python 3 (ipykernel)",
   "language": "python",
   "name": "python3"
  },
  "language_info": {
   "codemirror_mode": {
    "name": "ipython",
    "version": 3
   },
   "file_extension": ".py",
   "mimetype": "text/x-python",
   "name": "python",
   "nbconvert_exporter": "python",
   "pygments_lexer": "ipython3",
   "version": "3.9.13"
  }
 },
 "nbformat": 4,
 "nbformat_minor": 5
}
