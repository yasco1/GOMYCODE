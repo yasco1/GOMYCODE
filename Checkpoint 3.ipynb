{
 "cells": [
  {
   "cell_type": "code",
   "execution_count": 56,
   "id": "7074e005",
   "metadata": {},
   "outputs": [
    {
     "name": "stdout",
     "output_type": "stream",
     "text": [
      "Enter a Number to add to the list or (c) to calculate : 500\n",
      "Enter a Number to add to the list or (c) to calculate : 600\n",
      "Enter a Number to add to the list or (c) to calculate : 700\n",
      "Enter a Number to add to the list or (c) to calculate : 800\n",
      "Enter a Number to add to the list or (c) to calculate : c\n",
      "Sample List is [500.0, 600.0, 700.0, 800.0].\n",
      "The Result is 168000000000.0\n"
     ]
    }
   ],
   "source": [
    "#Question1\n",
    "Sample_List = []\n",
    "def data_loop():\n",
    "        while True:\n",
    "            item = input(\"Enter a Number to add to the list or (c) to calculate : \")\n",
    "            if item == \"c\":\n",
    "                break\n",
    "            else:\n",
    "                for i in item:\n",
    "                    if i in (\"abcdefghijklmnopqrstuvwxyz\"):\n",
    "                        return False\n",
    "                Sample_List.append(float(item))\n",
    "                continue\n",
    "        return True\n",
    "\n",
    "SL = data_loop()\n",
    "if SL:    \n",
    "    result = 1\n",
    "    for i in Sample_List:\n",
    "        result *= i\n",
    "    print(\"Sample List is \" + str(Sample_List) + \".\\nThe Result is \"+ str(result))\n",
    "else:\n",
    "    print(\"Only Numbers are allowed!\")"
   ]
  },
  {
   "cell_type": "code",
   "execution_count": 57,
   "id": "8e28ecdc",
   "metadata": {},
   "outputs": [
    {
     "name": "stdout",
     "output_type": "stream",
     "text": [
      "[(2, 1), (1, 2), (2, 3), (4, 4), (2, 5)]\n"
     ]
    }
   ],
   "source": [
    "#Question 2\n",
    "def sort(AnyList):\n",
    "    sorted_List = sorted(AnyList,key=lambda i: i[-1])\n",
    "    return sorted_List\n",
    "\n",
    "given_list=[(2, 5), (1, 2), (4, 4), (2, 3), (2, 1)]\n",
    "print(sort(given_list))\n"
   ]
  },
  {
   "cell_type": "code",
   "execution_count": 58,
   "id": "6fc0b047",
   "metadata": {},
   "outputs": [
    {
     "name": "stdout",
     "output_type": "stream",
     "text": [
      "{'a': 400, 'b': 400, 'd': 400, 'c': 300}\n"
     ]
    }
   ],
   "source": [
    "# Question 3\n",
    "d1 = {'a': 100, 'b': 200, 'c': 300}\n",
    "d2 = {'a': 300, 'b': 200, 'd': 400}\n",
    "d3 = d2\n",
    "for key1 in d1.keys():\n",
    "    if d3.get(key1):\n",
    "        d3[key1] = d3.get(key1) + d1.get(key1)\n",
    "    else:\n",
    "        d3[key1] = d1.get(key1)\n",
    "print(d3)"
   ]
  },
  {
   "cell_type": "code",
   "execution_count": 59,
   "id": "63ccff31",
   "metadata": {},
   "outputs": [
    {
     "name": "stdout",
     "output_type": "stream",
     "text": [
      "Enter an integral number:5\n",
      "The result is {1: 1, 2: 4, 3: 9, 4: 16, 5: 25}\n"
     ]
    }
   ],
   "source": [
    "#Question 4\n",
    "i = input(\"Enter an integral number:\")\n",
    "d = {}\n",
    "for n in range(1,int(i)+1):\n",
    "    d[n]=n*n\n",
    "    \n",
    "print(\"The result is \" + str(d))\n"
   ]
  },
  {
   "cell_type": "code",
   "execution_count": 60,
   "id": "4ffe1381",
   "metadata": {},
   "outputs": [
    {
     "name": "stdout",
     "output_type": "stream",
     "text": [
      "[('item3', '24.5'), ('item2', '15.10'), ('item1', '12.20')]\n"
     ]
    }
   ],
   "source": [
    "#Question 5\n",
    "def sort(AnyList):\n",
    "    sorted_List = sorted(AnyList,key=lambda i: float(i[-1]),reverse=True)\n",
    "    return sorted_List\n",
    "\n",
    "given_list=[('item1', '12.20'), ('item2', '15.10'), ('item3', '24.5')]\n",
    "print(sort(given_list))"
   ]
  },
  {
   "cell_type": "code",
   "execution_count": 45,
   "id": "e28690c8",
   "metadata": {},
   "outputs": [
    {
     "name": "stdout",
     "output_type": "stream",
     "text": [
      "the set is :\n",
      "{0, 1, 2, 3, 4, 5}\n",
      "iteration Over Set :\n",
      "0\n",
      "1\n",
      "2\n",
      "3\n",
      "4\n",
      "5\n",
      "after adding (6) and (7) :\n",
      "{0, 1, 2, 3, 4, 5, 6, 7}\n",
      "after removing (7) :\n",
      "{0, 1, 2, 3, 4, 5, 6}\n"
     ]
    }
   ],
   "source": [
    "#Question 6\n",
    "### Create a set\n",
    "set = {0, 1, 2, 3, 4, 5}  # or set=set({0,1,2,3,4,5})\n",
    "print(\"the set is :\\n\" + str(set))\n",
    "\n",
    "### iteration Over set\n",
    "\n",
    "print(\"iteration Over Set :\")\n",
    "for i in set:\n",
    "    print(i)\n",
    "\n",
    "### add to the set\n",
    "\n",
    "set.add(6)\n",
    "set.add(7)\n",
    "print(\"after adding (6) and (7) :\\n\" + str(set))\n",
    "\n",
    "###remove from the set\n",
    "\n",
    "set.remove(7)\n",
    "print(\"after removing (7) :\\n\" + str(set))"
   ]
  },
  {
   "cell_type": "code",
   "execution_count": null,
   "id": "72ef6711",
   "metadata": {},
   "outputs": [],
   "source": []
  }
 ],
 "metadata": {
  "kernelspec": {
   "display_name": "Python 3 (ipykernel)",
   "language": "python",
   "name": "python3"
  },
  "language_info": {
   "codemirror_mode": {
    "name": "ipython",
    "version": 3
   },
   "file_extension": ".py",
   "mimetype": "text/x-python",
   "name": "python",
   "nbconvert_exporter": "python",
   "pygments_lexer": "ipython3",
   "version": "3.9.13"
  }
 },
 "nbformat": 4,
 "nbformat_minor": 5
}
