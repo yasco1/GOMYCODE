{
 "cells": [
  {
   "cell_type": "code",
   "execution_count": 2,
   "id": "ebcca72c",
   "metadata": {},
   "outputs": [
    {
     "name": "stdout",
     "output_type": "stream",
     "text": [
      "False\n",
      "True\n"
     ]
    }
   ],
   "source": [
    "# Question 1\n",
    "\n",
    "def binary_search(Li, search_para):\n",
    "    list_length = len(Li)-1\n",
    "    if list_length >= 1:\n",
    "        middle_of_list = int(1 + (list_length-1)/2)\n",
    "        if Li[middle_of_list] == search_para:\n",
    "            print(True)\n",
    "        elif Li[middle_of_list] > search_para:\n",
    "            return binary_search(Li[:middle_of_list], search_para)\n",
    "        elif Li[middle_of_list] < search_para:\n",
    "            return binary_search(Li[middle_of_list:], search_para)\n",
    "    else:\n",
    "        print(False)\n",
    "\n",
    "\n",
    "binary_search([1, 2, 3, 5, 8], 6)\n",
    "binary_search([1, 2, 3, 5, 8], 5)"
   ]
  },
  {
   "cell_type": "code",
   "execution_count": 10,
   "id": "28d38b2d",
   "metadata": {},
   "outputs": [
    {
     "data": {
      "text/plain": [
       "81"
      ]
     },
     "execution_count": 10,
     "metadata": {},
     "output_type": "execute_result"
    }
   ],
   "source": [
    "#Question 2\n",
    "\n",
    "def pwr(base_value,to_the_power):\n",
    "    if to_the_power > 1:\n",
    "        return base_value * pwr(base_value,to_the_power-1)\n",
    "    else :\n",
    "        return base_value\n",
    "pwr(3,4)"
   ]
  },
  {
   "cell_type": "code",
   "execution_count": 11,
   "id": "1dcc1055",
   "metadata": {},
   "outputs": [
    {
     "name": "stdout",
     "output_type": "stream",
     "text": [
      "[13, 22, 29, 37, 46, 49, 52, 56, 71]\n"
     ]
    }
   ],
   "source": [
    "#Question 3\n",
    "\n",
    "def bubbleSort(li):\n",
    "    for i in range(len(li)-1,0,-1):\n",
    "        for j in range(i):\n",
    "            if li[j]>li[j+1]:\n",
    "                var = li[j]\n",
    "                li[j] = li[j+1]\n",
    "                li[j+1] = var\n",
    "    print (li)\n",
    "\n",
    "bubbleSort([29,13,22,37,52,49,46,71,56])\n",
    "\n"
   ]
  },
  {
   "cell_type": "code",
   "execution_count": 17,
   "id": "05013757",
   "metadata": {},
   "outputs": [
    {
     "name": "stdout",
     "output_type": "stream",
     "text": [
      "[13, 22, 29, 37, 46, 49, 52, 56, 71]\n"
     ]
    }
   ],
   "source": [
    "#Question 4\n",
    "\n",
    "def mergeSort(li):\n",
    "    if len(li) > 1:\n",
    "        mid = len(li) // 2\n",
    "        left = li[:mid]\n",
    "        right = li[mid:]\n",
    "\n",
    "        mergeSort(left)\n",
    "        mergeSort(right)\n",
    "\n",
    "        i = 0\n",
    "        j = 0\n",
    "\n",
    "        k = 0\n",
    "        \n",
    "        while i < len(left) and j < len(right):\n",
    "            if left[i] < right[j]:\n",
    "                \n",
    "              li[k] = left[i]\n",
    "\n",
    "              i += 1\n",
    "            else:\n",
    "                li[k] = right[j]\n",
    "                j += 1\n",
    "                \n",
    "            k += 1\n",
    "\n",
    "        while i < len(left):\n",
    "            li[k] = left[i]\n",
    "            i += 1\n",
    "            k += 1\n",
    "\n",
    "        while j < len(right):\n",
    "            li[k]=right[j]\n",
    "            j += 1\n",
    "            k += 1\n",
    "            \n",
    "li = [29,13,22,37,52,49,46,71,56]\n",
    "\n",
    "mergeSort(li)\n",
    "\n",
    "print(li)"
   ]
  },
  {
   "cell_type": "code",
   "execution_count": 23,
   "id": "df5250b8",
   "metadata": {},
   "outputs": [
    {
     "name": "stdout",
     "output_type": "stream",
     "text": [
      "[13, 22, 29, 37, 46, 49, 52, 56, 71]\n"
     ]
    }
   ],
   "source": [
    "# Question 5\n",
    "def partition(array, start, end):\n",
    "    pivot = array[start]\n",
    "    low = start + 1\n",
    "    high = end\n",
    "    while True:\n",
    "        while low <= high and array[high] >= pivot:\n",
    "            high = high - 1\n",
    "\n",
    "        # Opposite process of the one above\n",
    "        while low <= high and array[low] <= pivot:\n",
    "            low = low + 1\n",
    "\n",
    "        # We either found a value for both high and low that is out of order\n",
    "        # or low is higher than high, in which case we exit the loop\n",
    "        if low <= high:\n",
    "            array[low], array[high] = array[high], array[low]\n",
    "            # The loop continues\n",
    "        else:\n",
    "            # We exit out of the loop\n",
    "            break\n",
    "\n",
    "    array[start], array[high] = array[high], array[start]\n",
    "\n",
    "    return high\n",
    "\n",
    "def quick_sort(array, start, end):\n",
    "    if start >= end:\n",
    "        return\n",
    "\n",
    "    p = partition(array, start, end)\n",
    "    quick_sort(array, start, p-1)\n",
    "    quick_sort(array, p+1, end)\n",
    "\n",
    "array = [29,13,22,37,52,49,46,71,56]\n",
    "quick_sort(array, 0, len(array) - 1)\n",
    "print(array)"
   ]
  }
 ],
 "metadata": {
  "kernelspec": {
   "display_name": "Python 3 (ipykernel)",
   "language": "python",
   "name": "python3"
  },
  "language_info": {
   "codemirror_mode": {
    "name": "ipython",
    "version": 3
   },
   "file_extension": ".py",
   "mimetype": "text/x-python",
   "name": "python",
   "nbconvert_exporter": "python",
   "pygments_lexer": "ipython3",
   "version": "3.9.13"
  }
 },
 "nbformat": 4,
 "nbformat_minor": 5
}
